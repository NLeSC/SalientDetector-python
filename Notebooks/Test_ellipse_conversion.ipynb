{
 "cells": [
  {
   "cell_type": "markdown",
   "metadata": {},
   "source": [
    "# Testing ellipse conversion "
   ]
  },
  {
   "cell_type": "code",
   "execution_count": 1,
   "metadata": {
    "collapsed": false
   },
   "outputs": [],
   "source": [
    "# set up\n",
    "import numpy as np\n",
    "from numpy import linalg as LA\n",
    "from math import atan2\n",
    "import sys\n",
    "import os\n",
    "sys.path.insert(0, os.path.abspath('..'))\n",
    "\n",
    "import salientregions as sr"
   ]
  },
  {
   "cell_type": "code",
   "execution_count": 2,
   "metadata": {
    "collapsed": false
   },
   "outputs": [
    {
     "ename": "SyntaxError",
     "evalue": "Missing parentheses in call to 'print' (<ipython-input-2-e5a51ea71bc1>, line 6)",
     "output_type": "error",
     "traceback": [
      "\u001b[1;36m  File \u001b[1;32m\"<ipython-input-2-e5a51ea71bc1>\"\u001b[1;36m, line \u001b[1;32m6\u001b[0m\n\u001b[1;33m    print \"a, b, angle_rad:\", a, b, angle_rad\u001b[0m\n\u001b[1;37m                           ^\u001b[0m\n\u001b[1;31mSyntaxError\u001b[0m\u001b[1;31m:\u001b[0m Missing parentheses in call to 'print'\n"
     ]
    }
   ],
   "source": [
    "# elipse1\n",
    "a = 15.9; b = 9.2; angle_rad = np.pi/8 #np.pi/13 #np.pi/4 #np.pi/3 #np.pi/2  #0- works only for angles in [0,90] deg.\n",
    "\n",
    "[A, B, C] = sr.helpers.standard2poly_ellipse(a, b, angle_rad)\n",
    "\n",
    "print \"a, b, angle_rad:\", a, b, angle_rad\n",
    "print \"A, B, C: \", A, B, C"
   ]
  },
  {
   "cell_type": "code",
   "execution_count": null,
   "metadata": {
    "collapsed": false
   },
   "outputs": [],
   "source": [
    "# construct a matrix from the values \n",
    "M = np.array([[A,B],[B,C]])\n",
    "print M\n"
   ]
  },
  {
   "cell_type": "code",
   "execution_count": null,
   "metadata": {
    "collapsed": false
   },
   "outputs": [],
   "source": [
    "# find the eigenvalues \n",
    "evals = LA.eigh(M)[0]\n",
    "order = evals.argsort()[::-1]\n",
    "evals = evals[order]\n",
    "e_min = evals[-1]\n",
    "e_max = evals[0]\n",
    "print \"Eigen values, min, max: \", evals, e_min, e_max"
   ]
  },
  {
   "cell_type": "code",
   "execution_count": null,
   "metadata": {
    "collapsed": false
   },
   "outputs": [],
   "source": [
    "#angle_rad_c = np.arctan2(*evecs[:, 0][::-1])\n",
    "if B == 0:\n",
    "    if A < C:\n",
    "        angle_rad_c = 0\n",
    "    else:\n",
    "        angle_rad_c = np.pi/2\n",
    "else:\n",
    "    if A < C:\n",
    "        angle_rad_c =  0.5*np.arctan(2*B/(A-C))    \n",
    "    else:\n",
    "        angle_rad_c = np.pi/2 + 0.5*np.arctan(2*B/(A-C))  \n",
    "print \"The angle (rad): \", angle_rad_c        \n",
    "#if angle_rad_c < 0:\n",
    "    #angle_rad_c = np.pi - angle_rad_c\n",
    "#print \"The angle (rad): \", angle_rad_c"
   ]
  },
  {
   "cell_type": "code",
   "execution_count": null,
   "metadata": {
    "collapsed": false
   },
   "outputs": [],
   "source": [
    "# axis lengths\n",
    "a_c = 1/np.sqrt(e_min)\n",
    "print \"Major axis semi-length: \", a_c\n",
    "b_c = 1/np.sqrt(e_max)\n",
    "print \"Minor axis semi-length: \", b_c"
   ]
  },
  {
   "cell_type": "code",
   "execution_count": null,
   "metadata": {
    "collapsed": false
   },
   "outputs": [],
   "source": [
    "print \"difference true-converted angle: \", angle_rad - angle_rad_c\n",
    "print \"difference true-converted minor axis semi-len: \", b - b_c\n",
    "print \"difference true-converted major axis semi-len: \", a - a_c\n",
    "assert sr.helpers.array_diff(angle_rad, angle_rad_c,1e-05, 1e-08)\n",
    "assert sr.helpers.array_diff(a, a_c,1e-05, 1e-08)\n",
    "assert sr.helpers.array_diff(b, b_c,1e-05, 1e-08)"
   ]
  },
  {
   "cell_type": "code",
   "execution_count": null,
   "metadata": {
    "collapsed": true
   },
   "outputs": [],
   "source": []
  },
  {
   "cell_type": "code",
   "execution_count": null,
   "metadata": {
    "collapsed": true
   },
   "outputs": [],
   "source": []
  }
 ],
 "metadata": {
  "kernelspec": {
   "display_name": "Python 3",
   "language": "python",
   "name": "python3"
  },
  "language_info": {
   "codemirror_mode": {
    "name": "ipython",
    "version": 3
   },
   "file_extension": ".py",
   "mimetype": "text/x-python",
   "name": "python",
   "nbconvert_exporter": "python",
   "pygments_lexer": "ipython3",
   "version": "3.5.1"
  }
 },
 "nbformat": 4,
 "nbformat_minor": 0
}
