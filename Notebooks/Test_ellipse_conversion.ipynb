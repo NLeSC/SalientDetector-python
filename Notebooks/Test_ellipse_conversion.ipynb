{
 "cells": [
  {
   "cell_type": "markdown",
   "metadata": {},
   "source": [
    "# Testing ellipse conversion "
   ]
  },
  {
   "cell_type": "code",
   "execution_count": 523,
   "metadata": {
    "collapsed": false
   },
   "outputs": [],
   "source": [
    "# set up\n",
    "import numpy as np\n",
    "from numpy import linalg as LA\n",
    "from math import atan2\n",
    "import sys\n",
    "import os\n",
    "sys.path.insert(0, os.path.abspath('..'))\n",
    "\n",
    "import salientregions as sr"
   ]
  },
  {
   "cell_type": "code",
   "execution_count": 524,
   "metadata": {
    "collapsed": false
   },
   "outputs": [
    {
     "name": "stdout",
     "output_type": "stream",
     "text": [
      "a, b, angle_rad: 15.9 9.2 0.392699081699\n",
      "A, B, C:  0.00510649366825 -0.0027786485992 0.0106637908667\n"
     ]
    }
   ],
   "source": [
    "# elipse1\n",
    "a = 15.9; b = 9.2; angle_rad = np.pi/8 #np.pi/13 #np.pi/4 #np.pi/3 #np.pi/2  #0- works only for angles in [0,90] deg.\n",
    "\n",
    "[A, B, C] = sr.helpers.standard2poly_ellipse(a, b, angle_rad)\n",
    "\n",
    "print \"a, b, angle_rad:\", a, b, angle_rad\n",
    "print \"A, B, C: \", A, B, C"
   ]
  },
  {
   "cell_type": "code",
   "execution_count": 525,
   "metadata": {
    "collapsed": false
   },
   "outputs": [
    {
     "name": "stdout",
     "output_type": "stream",
     "text": [
      "[[ 0.00510649 -0.00277865]\n",
      " [-0.00277865  0.01066379]]\n"
     ]
    }
   ],
   "source": [
    "# construct a matrix from the values \n",
    "M = np.array([[A,B],[B,C]])\n",
    "print M\n"
   ]
  },
  {
   "cell_type": "code",
   "execution_count": 526,
   "metadata": {
    "collapsed": false
   },
   "outputs": [
    {
     "name": "stdout",
     "output_type": "stream",
     "text": [
      "Eigen values, min, max:  [ 0.01181474  0.00395554] 0.0039555397334 0.0118147448015\n"
     ]
    }
   ],
   "source": [
    "# find the eigenvalues \n",
    "evals = LA.eigh(M)[0]\n",
    "order = evals.argsort()[::-1]\n",
    "evals = evals[order]\n",
    "e_min = evals[-1]\n",
    "e_max = evals[0]\n",
    "print \"Eigen values, min, max: \", evals, e_min, e_max"
   ]
  },
  {
   "cell_type": "code",
   "execution_count": 527,
   "metadata": {
    "collapsed": false
   },
   "outputs": [
    {
     "name": "stdout",
     "output_type": "stream",
     "text": [
      "The angle (rad):  0.392699081699\n"
     ]
    }
   ],
   "source": [
    "#angle_rad_c = np.arctan2(*evecs[:, 0][::-1])\n",
    "if B == 0:\n",
    "    if A < C:\n",
    "        angle_rad_c = 0\n",
    "    else:\n",
    "        angle_rad_c = np.pi/2\n",
    "else:\n",
    "    if A < C:\n",
    "        angle_rad_c =  0.5*np.arctan(2*B/(A-C))    \n",
    "    else:\n",
    "        angle_rad_c = np.pi/2 + 0.5*np.arctan(2*B/(A-C))  \n",
    "print \"The angle (rad): \", angle_rad_c        \n",
    "#if angle_rad_c < 0:\n",
    "    #angle_rad_c = np.pi - angle_rad_c\n",
    "#print \"The angle (rad): \", angle_rad_c"
   ]
  },
  {
   "cell_type": "code",
   "execution_count": 528,
   "metadata": {
    "collapsed": false
   },
   "outputs": [
    {
     "name": "stdout",
     "output_type": "stream",
     "text": [
      "Major axis semi-length:  15.9\n",
      "Minor axis semi-length:  9.2\n"
     ]
    }
   ],
   "source": [
    "# axis lengths\n",
    "a_c = 1/np.sqrt(e_min)\n",
    "print \"Major axis semi-length: \", a_c\n",
    "b_c = 1/np.sqrt(e_max)\n",
    "print \"Minor axis semi-length: \", b_c"
   ]
  },
  {
   "cell_type": "code",
   "execution_count": 529,
   "metadata": {
    "collapsed": false
   },
   "outputs": [
    {
     "name": "stdout",
     "output_type": "stream",
     "text": [
      "difference true-converted angle:  -5.55111512313e-17\n",
      "difference true-converted minor axis semi-len:  0.0\n",
      "difference true-converted major axis semi-len:  0.0\n"
     ]
    }
   ],
   "source": [
    "print \"difference true-converted angle: \", angle_rad - angle_rad_c\n",
    "print \"difference true-converted minor axis semi-len: \", b - b_c\n",
    "print \"difference true-converted major axis semi-len: \", a - a_c\n",
    "assert sr.helpers.array_diff(angle_rad, angle_rad_c,1e-05, 1e-08)\n",
    "assert sr.helpers.array_diff(a, a_c,1e-05, 1e-08)\n",
    "assert sr.helpers.array_diff(b, b_c,1e-05, 1e-08)"
   ]
  },
  {
   "cell_type": "code",
   "execution_count": null,
   "metadata": {
    "collapsed": true
   },
   "outputs": [],
   "source": []
  },
  {
   "cell_type": "code",
   "execution_count": null,
   "metadata": {
    "collapsed": true
   },
   "outputs": [],
   "source": []
  }
 ],
 "metadata": {
  "kernelspec": {
   "display_name": "Python 2",
   "language": "python",
   "name": "python2"
  },
  "language_info": {
   "codemirror_mode": {
    "name": "ipython",
    "version": 2
   },
   "file_extension": ".py",
   "mimetype": "text/x-python",
   "name": "python",
   "nbconvert_exporter": "python",
   "pygments_lexer": "ipython2",
   "version": "2.7.11"
  }
 },
 "nbformat": 4,
 "nbformat_minor": 0
}
