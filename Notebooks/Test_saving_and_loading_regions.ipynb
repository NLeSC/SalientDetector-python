{
 "cells": [
  {
   "cell_type": "markdown",
   "metadata": {},
   "source": [
    "# Testing Saving and Loading Salient Regions"
   ]
  },
  {
   "cell_type": "markdown",
   "metadata": {},
   "source": [
    "This notebook tests the saving and loading of the salient regions"
   ]
  },
  {
   "cell_type": "code",
   "execution_count": 1,
   "metadata": {
    "collapsed": false
   },
   "outputs": [],
   "source": [
    "# setup\n",
    "import numpy as np\n",
    "import cv2\n",
    "import sys\n",
    "import os\n",
    "sys.path.insert(0, os.path.abspath('..'))\n",
    "from pprint import pprint\n",
    "\n",
    "import salientregions as sr\n",
    "import scipy.io as sio"
   ]
  },
  {
   "cell_type": "code",
   "execution_count": 2,
   "metadata": {
    "collapsed": false
   },
   "outputs": [
    {
     "name": "stdout",
     "output_type": "stream",
     "text": [
      "Populating the interactive namespace from numpy and matplotlib\n"
     ]
    }
   ],
   "source": [
    "%pylab inline"
   ]
  },
  {
   "cell_type": "code",
   "execution_count": 3,
   "metadata": {
    "collapsed": false
   },
   "outputs": [
    {
     "data": {
      "image/png": "[encoded data removed]",
      "text/plain": [
       "<matplotlib.figure.Figure at 0x7f1b8a251f28>"
      ]
     },
     "metadata": {},
     "output_type": "display_data"
    }
   ],
   "source": [
    "# load the test image\n",
    "testdata_images_path = '../tests/images/Binary/'\n",
    "testdata_features_path = '../tests/features/Binary/'\n",
    "\n",
    "image = cv2.imread(os.path.join(testdata_images_path, 'Binary_all_types_noise.png'), cv2.IMREAD_GRAYSCALE)\n",
    "sr.show_image(image)"
   ]
  },
  {
   "cell_type": "code",
   "execution_count": 4,
   "metadata": {
    "collapsed": true
   },
   "outputs": [],
   "source": [
    "# load MATLAB SE and set up parameters and detector\n",
    "SE = sio.loadmat(os.path.join(testdata_features_path,\"SE_all.mat\"))['SE_n']\n",
    "lam = 50\n",
    "area_factor = 0.05\n",
    "connectivity = 4\n",
    "binarydetector = sr.BinaryDetector(SE=SE, lam=lam, area_factor=area_factor, \n",
    "                                                connectivity=connectivity)\n"
   ]
  },
  {
   "cell_type": "code",
   "execution_count": 5,
   "metadata": {
    "collapsed": false,
    "scrolled": true
   },
   "outputs": [
    {
     "data": {
      "image/png": "[encoded data removed]",
      "text/plain": [
       "<matplotlib.figure.Figure at 0x7f1b8a251eb8>"
      ]
     },
     "metadata": {},
     "output_type": "display_data"
    }
   ],
   "source": [
    "# run detector\n",
    "regions = binarydetector.detect(image, find_holes=True, find_islands=True,\n",
    "       find_indentations=True, find_protrusions=True, visualize=True)\n"
   ]
  },
  {
   "cell_type": "code",
   "execution_count": 6,
   "metadata": {
    "collapsed": false
   },
   "outputs": [
    {
     "name": "stdout",
     "output_type": "stream",
     "text": [
      "Total number of regions detected:  dict_values([2, 2, 3, 2])\n",
      "Number of features per saliency type:  {'holes': 2, 'islands': 2, 'protrusions': 3, 'indentations': 2}\n"
     ]
    }
   ],
   "source": [
    "# find the equivalent ellipses (both using standard and polynimial coefficients)\n",
    "num_regions, features_standard, features_poly = sr.binary_mask2ellipse_features(regions, min_square=False)\n",
    "print(\"Total number of regions detected: \", sum(num_regions.values()))\n",
    "print(\"Number of features per saliency type: \", num_regions)\n",
    "#sr.visualize_ellipses(regions[\"holes\"], features_standard[\"holes\"])\n",
    "#sr.visualize_ellipses(regions[\"islands\"], features_standard[\"islands\"])\n",
    "#sr.visualize_ellipses(regions[\"indentations\"], features_standard[\"indentations\"])\n",
    "#sr.visualize_ellipses(regions[\"protrusions\"], features_standard[\"protrusions\"])\n",
    "#sr.visualize_elements_ellipses(image, features_standard);"
   ]
  },
  {
   "cell_type": "code",
   "execution_count": 11,
   "metadata": {
    "collapsed": false
   },
   "outputs": [
    {
     "name": "stdout",
     "output_type": "stream",
     "text": [
      "Elliptic standard features: \n",
      "\n",
      "{'holes': array([[  64.16392517,  186.19673157,   14.        ,   29.        ,\n",
      "          -0.93971696,    1.        ],\n",
      "       [ 101.        ,   89.        ,   24.        ,   25.        ,\n",
      "           3.14159265,    1.        ]]),\n",
      " 'indentations': array([[  1.26830780e+02,   1.85146149e+02,   9.00000000e+00,\n",
      "          1.10000000e+01,  -1.24355000e-01,   3.00000000e+00],\n",
      "       [  1.42136993e+02,   4.58013725e+01,   1.90000000e+01,\n",
      "          9.00000000e+00,  -7.48378094e-01,   3.00000000e+00]]),\n",
      " 'islands': array([[ 200.        ,  175.        ,   14.        ,   34.        ,\n",
      "           3.14159265,    2.        ],\n",
      "       [ 187.        ,   38.5       ,   10.        ,    5.        ,\n",
      "           3.14159265,    2.        ]]),\n",
      " 'protrusions': array([[ 140.4133606 ,  197.19857788,    8.        ,    7.        ,\n",
      "          -0.57133754,    4.        ],\n",
      "       [ 172.16401672,  123.34799957,    5.        ,    5.        ,\n",
      "          -1.39094281,    4.        ],\n",
      "       [ 153.5       ,   40.        ,    6.        ,    7.        ,\n",
      "           3.14159265,    4.        ]])}\n",
      "\n",
      " Elliptic polynomial features: \n",
      "\n",
      "{'holes': array([[  6.41639252e+01,   1.86196732e+02,   2.55124555e-03,\n",
      "          1.86404260e-03,   3.73985591e-03,   1.00000000e+00],\n",
      "       [  1.01000000e+02,   8.90000000e+01,   1.73611111e-03,\n",
      "          1.66688037e-20,   1.60000000e-03,   1.00000000e+00]]),\n",
      " 'indentations': array([[  1.26830780e+02,   1.85146149e+02,   1.22828911e-02,\n",
      "          5.02303556e-04,   8.32725076e-03,   3.00000000e+00],\n",
      "       [  1.42136993e+02,   4.58013725e+01,   7.20371562e-03,\n",
      "         -4.77468073e-03,   7.91204649e-03,   3.00000000e+00]]),\n",
      " 'islands': array([[  2.00000000e+02,   1.75000000e+02,   5.10204082e-03,\n",
      "          5.18881491e-19,   8.65051903e-04,   2.00000000e+00],\n",
      "       [  1.87000000e+02,   3.85000000e+01,   1.00000000e-02,\n",
      "         -3.67394040e-18,   4.00000000e-02,   2.00000000e+00]]),\n",
      " 'protrusions': array([[  1.40413361e+02,   1.97198578e+02,   1.70236870e-02,\n",
      "         -2.17573503e-03,   1.90094763e-02,   4.00000000e+00],\n",
      "       [  1.72164017e+02,   1.23348000e+02,   4.00000000e-02,\n",
      "          0.00000000e+00,   4.00000000e-02,   4.00000000e+00],\n",
      "       [  1.53500000e+02,   4.00000000e+01,   2.77777778e-02,\n",
      "          9.02517482e-19,   2.04081633e-02,   4.00000000e+00]])}\n"
     ]
    }
   ],
   "source": [
    "# print the feature representations\n",
    "print(\"Elliptic standard features: \\n\")\n",
    "pprint(features_standard) \n",
    "print(\"\\n Elliptic polynomial features: \\n\")\n",
    "pprint(features_poly)"
   ]
  },
  {
   "cell_type": "code",
   "execution_count": 12,
   "metadata": {
    "collapsed": false
   },
   "outputs": [
    {
     "name": "stdout",
     "output_type": "stream",
     "text": [
      "Total_num_regions (standard) 9\n",
      "Total_num_regions (poly) 9\n"
     ]
    }
   ],
   "source": [
    "# save the ellipsies in txt files\n",
    "filename_standard = (os.path.join(testdata_features_path,'features_standard.txt'))\n",
    "total_num_regions = sr.save_ellipse_features2file(num_regions, features_standard, filename_standard)\n",
    "print(\"Total_num_regions (standard)\", total_num_regions)\n",
    "filename_poly = (os.path.join(testdata_features_path,'features_poly.txt'))\n",
    "total_num_regions = sr.save_ellipse_features2file(num_regions, features_poly, filename_poly)\n",
    "print(\"Total_num_regions (poly)\", total_num_regions)\n"
   ]
  },
  {
   "cell_type": "code",
   "execution_count": 13,
   "metadata": {
    "collapsed": false
   },
   "outputs": [
    {
     "name": "stdout",
     "output_type": "stream",
     "text": [
      "Features standard: \n",
      "Total_num_regions:  9\n",
      "Number of features per saliency type:  {'holes': 2, 'islands': 2, 'protrusions': 3, 'indentations': 2}\n",
      "\n",
      " Features standard: \n",
      "Total_num_regions:  9\n",
      "Number of features per saliency type:  {'holes': 2, 'islands': 2, 'protrusions': 3, 'indentations': 2}\n"
     ]
    }
   ],
   "source": [
    "# loading the ellipses from the txt files\n",
    "total_num_regions, num_regions, features_standard_loaded = sr.load_ellipse_features_from_file(filename_standard)\n",
    "print(\"Features standard: \")\n",
    "print(\"Total_num_regions: \", total_num_regions)\n",
    "print(\"Number of features per saliency type: \", num_regions)\n",
    "\n",
    "total_num_regions, num_regions, features_poly_loaded = sr.load_ellipse_features_from_file(filename_poly)\n",
    "print(\"\\n Features standard: \")\n",
    "print(\"Total_num_regions: \", total_num_regions)\n",
    "print(\"Number of features per saliency type: \", num_regions)"
   ]
  },
  {
   "cell_type": "code",
   "execution_count": 16,
   "metadata": {
    "collapsed": false
   },
   "outputs": [
    {
     "name": "stdout",
     "output_type": "stream",
     "text": [
      "Comparing the original standard and the loaded features: \n",
      "\n",
      "The same! \n",
      "\n",
      "Comparing the original polynomial and the loaded features: \n",
      "\n",
      "The same! \n",
      "\n"
     ]
    }
   ],
   "source": [
    "#comapre the loaded ellipses with the original ones\n",
    "print(\"Comparing the original standard and the loaded features: \\n\")\n",
    "if all(features_standard[k]==features_standard_loaded[k] for k in features_standard):\n",
    "    print(\"The same! \\n\")\n",
    "else:\n",
    "    print(\"Different! \\n\")\n",
    "\n",
    "print(\"Comparing the original polynomial and the loaded features: \\n\")\n",
    "if all(features_poly[k]==features_poly_loaded[k] for k in features_poly):\n",
    "    print(\"The same! \\n\")\n",
    "else:\n",
    "    print(\"Different! \\n\")\n"
   ]
  },
  {
   "cell_type": "code",
   "execution_count": 17,
   "metadata": {
    "collapsed": false
   },
   "outputs": [
    {
     "data": {
      "image/png": "[encoded data removed]",
      "text/plain": [
       "<matplotlib.figure.Figure at 0x7f1b87e4cc50>"
      ]
     },
     "metadata": {},
     "output_type": "display_data"
    },
    {
     "data": {
      "image/png": "[encoded data removed]",
      "text/plain": [
       "<matplotlib.figure.Figure at 0x7f1b87e4ccf8>"
      ]
     },
     "metadata": {},
     "output_type": "display_data"
    }
   ],
   "source": [
    "# visualise the original and the  loaded (only standard is supported!)\n",
    "sr.visualize_elements_ellipses(image, features_standard);\n",
    "sr.visualize_elements_ellipses(image, features_standard_loaded);\n",
    "#sr.visualize_elements_ellipses(image, features_poly);"
   ]
  },
  {
   "cell_type": "code",
   "execution_count": null,
   "metadata": {
    "collapsed": true
   },
   "outputs": [],
   "source": []
  }
 ],
 "metadata": {
  "kernelspec": {
   "display_name": "Python 3",
   "language": "python",
   "name": "python3"
  },
  "language_info": {
   "codemirror_mode": {
    "name": "ipython",
    "version": 3
   },
   "file_extension": ".py",
   "mimetype": "text/x-python",
   "name": "python",
   "nbconvert_exporter": "python",
   "pygments_lexer": "ipython3",
   "version": "3.5.1"
  }
 },
 "nbformat": 4,
 "nbformat_minor": 0
}
