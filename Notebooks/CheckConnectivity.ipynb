{
 "cells": [
  {
   "cell_type": "code",
   "execution_count": 1,
   "metadata": {
    "collapsed": true
   },
   "outputs": [],
   "source": [
    "import numpy as np\n",
    "import cv2\n",
    "import sys\n",
    "import os\n",
    "sys.path.insert(0, os.path.abspath('..'))\n",
    "\n",
    "import salientregions as sr\n",
    "import scipy.io as sio"
   ]
  },
  {
   "cell_type": "code",
   "execution_count": 2,
   "metadata": {
    "collapsed": false
   },
   "outputs": [
    {
     "name": "stdout",
     "output_type": "stream",
     "text": [
      "Populating the interactive namespace from numpy and matplotlib\n"
     ]
    }
   ],
   "source": [
    "%pylab inline"
   ]
  },
  {
   "cell_type": "code",
   "execution_count": 3,
   "metadata": {
    "collapsed": false
   },
   "outputs": [
    {
     "data": {
      "image/png": "[encoded data removed]",
      "text/plain": [
       "<matplotlib.figure.Figure at 0x7f8bba4a2550>"
      ]
     },
     "metadata": {},
     "output_type": "display_data"
    }
   ],
   "source": [
    "image = np.zeros((10,10), dtype='uint8')\n",
    "image[3:8,3:8] = 255\n",
    "image[3,3] = 0\n",
    "image[4:6,4:6] = 0\n",
    "image[1,1] = 255\n",
    "sr.show_image(image)"
   ]
  },
  {
   "cell_type": "code",
   "execution_count": 4,
   "metadata": {
    "collapsed": false
   },
   "outputs": [
    {
     "data": {
      "text/plain": [
       "array([[  0,   0,   0,   0,   0,   0,   0,   0,   0,   0],\n",
       "       [  0, 255,   0,   0,   0,   0,   0,   0,   0,   0],\n",
       "       [  0,   0,   0,   0,   0,   0,   0,   0,   0,   0],\n",
       "       [  0,   0,   0,   0, 255, 255, 255, 255,   0,   0],\n",
       "       [  0,   0,   0, 255,   0,   0, 255, 255,   0,   0],\n",
       "       [  0,   0,   0, 255,   0,   0, 255, 255,   0,   0],\n",
       "       [  0,   0,   0, 255, 255, 255, 255, 255,   0,   0],\n",
       "       [  0,   0,   0, 255, 255, 255, 255, 255,   0,   0],\n",
       "       [  0,   0,   0,   0,   0,   0,   0,   0,   0,   0],\n",
       "       [  0,   0,   0,   0,   0,   0,   0,   0,   0,   0]], dtype=uint8)"
      ]
     },
     "execution_count": 4,
     "metadata": {},
     "output_type": "execute_result"
    }
   ],
   "source": [
    "image"
   ]
  },
  {
   "cell_type": "code",
   "execution_count": 5,
   "metadata": {
    "collapsed": false
   },
   "outputs": [],
   "source": [
    "filled_pre = image.copy()\n",
    "_, contours, hierarchy = cv2.findContours(filled_pre,\n",
    "                                  cv2.RETR_CCOMP,\n",
    "                                  cv2.CHAIN_APPROX_SIMPLE)\n",
    "for i, cnt in enumerate(contours):\n",
    "    # Fill the original image for all the contours\n",
    "    if hierarchy[0][i][3] == -1:\n",
    "        cv2.drawContours(filled_pre, [cnt], 0, 255, -1)\n",
    "\n",
    "filled = cv2.bitwise_or(filled_pre, image)"
   ]
  },
  {
   "cell_type": "code",
   "execution_count": 6,
   "metadata": {
    "collapsed": false
   },
   "outputs": [
    {
     "data": {
      "text/plain": [
       "array([[  0,   0,   0,   0,   0,   0,   0,   0,   0,   0],\n",
       "       [  0, 255,   0,   0,   0,   0,   0,   0,   0,   0],\n",
       "       [  0,   0,   0,   0,   0,   0,   0,   0,   0,   0],\n",
       "       [  0,   0,   0,   0, 255, 255, 255, 255,   0,   0],\n",
       "       [  0,   0,   0, 255, 255, 255, 255, 255,   0,   0],\n",
       "       [  0,   0,   0, 255, 255, 255, 255, 255,   0,   0],\n",
       "       [  0,   0,   0, 255, 255, 255, 255, 255,   0,   0],\n",
       "       [  0,   0,   0, 255, 255, 255, 255, 255,   0,   0],\n",
       "       [  0,   0,   0,   0,   0,   0,   0,   0,   0,   0],\n",
       "       [  0,   0,   0,   0,   0,   0,   0,   0,   0,   0]], dtype=uint8)"
      ]
     },
     "execution_count": 6,
     "metadata": {},
     "output_type": "execute_result"
    }
   ],
   "source": [
    "filled_pre"
   ]
  },
  {
   "cell_type": "code",
   "execution_count": 7,
   "metadata": {
    "collapsed": false
   },
   "outputs": [
    {
     "data": {
      "text/plain": [
       "array([[  0,   0,   0,   0,   0,   0,   0,   0,   0,   0],\n",
       "       [  0, 255,   0,   0,   0,   0,   0,   0,   0,   0],\n",
       "       [  0,   0,   0,   0,   0,   0,   0,   0,   0,   0],\n",
       "       [  0,   0,   0,   0, 255, 255, 255, 255,   0,   0],\n",
       "       [  0,   0,   0, 255, 255, 255, 255, 255,   0,   0],\n",
       "       [  0,   0,   0, 255, 255, 255, 255, 255,   0,   0],\n",
       "       [  0,   0,   0, 255, 255, 255, 255, 255,   0,   0],\n",
       "       [  0,   0,   0, 255, 255, 255, 255, 255,   0,   0],\n",
       "       [  0,   0,   0,   0,   0,   0,   0,   0,   0,   0],\n",
       "       [  0,   0,   0,   0,   0,   0,   0,   0,   0,   0]], dtype=uint8)"
      ]
     },
     "execution_count": 7,
     "metadata": {},
     "output_type": "execute_result"
    }
   ],
   "source": [
    "filled"
   ]
  },
  {
   "cell_type": "code",
   "execution_count": 36,
   "metadata": {
    "collapsed": false
   },
   "outputs": [
    {
     "data": {
      "text/plain": [
       "array([[0, 0, 0, 0, 0, 0, 0, 0, 0, 0],\n",
       "       [0, 0, 0, 0, 0, 0, 0, 0, 0, 0],\n",
       "       [0, 0, 0, 0, 0, 0, 0, 0, 0, 0],\n",
       "       [0, 0, 0, 0, 7, 7, 0, 0, 0, 0],\n",
       "       [0, 0, 0, 7, 0, 0, 7, 0, 0, 0],\n",
       "       [0, 0, 0, 7, 0, 0, 7, 0, 0, 0],\n",
       "       [0, 0, 0, 0, 7, 7, 0, 0, 0, 0],\n",
       "       [0, 0, 0, 0, 0, 0, 0, 0, 0, 0],\n",
       "       [0, 0, 0, 0, 0, 0, 0, 0, 0, 0],\n",
       "       [0, 0, 0, 0, 0, 0, 0, 0, 0, 0]], dtype=uint8)"
      ]
     },
     "execution_count": 36,
     "metadata": {},
     "output_type": "execute_result"
    }
   ],
   "source": [
    "contour_image = image.copy()\n",
    "_, contours, hierarchy = cv2.findContours(contour_image,\n",
    "                                  cv2.RETR_CCOMP,\n",
    "                                  #cv2.CHAIN_APPROX_SIMPLE\n",
    "                                  cv2.CHAIN_APPROX_NONE)\n",
    "contour_image = np.zeros_like(image)\n",
    "for cnt in [contours[1]]:\n",
    "    # Fill the original image for all the contours\n",
    "    if hierarchy[0][i][3] == -1:\n",
    "        cv2.drawContours(contour_image, [cnt], 0, color=7, thickness=1, maxLevel=0)\n",
    "contour_image"
   ]
  },
  {
   "cell_type": "code",
   "execution_count": 37,
   "metadata": {
    "collapsed": false
   },
   "outputs": [
    {
     "data": {
      "text/plain": [
       "array([[0, 0, 0, 0, 0, 0, 0, 0, 0, 0],\n",
       "       [0, 0, 0, 0, 0, 0, 0, 0, 0, 0],\n",
       "       [0, 0, 0, 0, 0, 0, 0, 0, 0, 0],\n",
       "       [0, 0, 0, 0, 7, 7, 7, 7, 0, 0],\n",
       "       [0, 0, 0, 7, 7, 0, 7, 7, 0, 0],\n",
       "       [0, 0, 0, 7, 0, 0, 7, 7, 0, 0],\n",
       "       [0, 0, 0, 7, 7, 7, 0, 7, 0, 0],\n",
       "       [0, 0, 0, 7, 7, 7, 7, 7, 0, 0],\n",
       "       [0, 0, 0, 0, 0, 0, 0, 0, 0, 0],\n",
       "       [0, 0, 0, 0, 0, 0, 0, 0, 0, 0]], dtype=uint8)"
      ]
     },
     "execution_count": 37,
     "metadata": {},
     "output_type": "execute_result"
    }
   ],
   "source": [
    "contour_image = image.copy()\n",
    "_, contours, hierarchy = cv2.findContours(contour_image,\n",
    "                                  cv2.RETR_CCOMP,\n",
    "                                  #cv2.CHAIN_APPROX_SIMPLE\n",
    "                                  cv2.CHAIN_APPROX_NONE)\n",
    "contour_image = np.zeros_like(image)\n",
    "for cnt in [np.concatenate((contours[1], contours[0]))]:\n",
    "    # Fill the original image for all the contours\n",
    "        cv2.drawContours(contour_image, [cnt], 0, color=7, thickness=1)\n",
    "contour_image"
   ]
  },
  {
   "cell_type": "code",
   "execution_count": 44,
   "metadata": {
    "collapsed": false
   },
   "outputs": [
    {
     "data": {
      "text/plain": [
       "array([[  0,   0,   0,   0,   0,   0,   0,   0,   0,   0],\n",
       "       [  0, 255,   0,   0,   0,   0,   0,   0,   0,   0],\n",
       "       [  0,   0,   0,   0,   0,   0,   0,   0,   0,   0],\n",
       "       [  0,   0,   0, 255, 255, 255, 255, 255,   0,   0],\n",
       "       [  0,   0,   0, 255,   0,   0, 255, 255,   0,   0],\n",
       "       [  0,   0,   0, 255,   0,   0, 255, 255,   0,   0],\n",
       "       [  0,   0,   0, 255, 255, 255, 255, 255,   0,   0],\n",
       "       [  0,   0,   0, 255, 255, 255, 255, 255,   0,   0],\n",
       "       [  0,   0,   0,   0,   0,   0,   0,   0,   0,   0],\n",
       "       [  0,   0,   0,   0,   0,   0,   0,   0,   0,   0]], dtype=uint8)"
      ]
     },
     "execution_count": 44,
     "metadata": {},
     "output_type": "execute_result"
    }
   ],
   "source": [
    "image2 = image.copy()\n",
    "image2[3,3] = 255\n",
    "image2"
   ]
  },
  {
   "cell_type": "code",
   "execution_count": 50,
   "metadata": {
    "collapsed": false
   },
   "outputs": [],
   "source": [
    "filled_pre2 = image2.copy()\n",
    "_, contours2, hierarchy2 = cv2.findContours(filled_pre2,\n",
    "                                  cv2.RETR_CCOMP,\n",
    "                                  cv2.CHAIN_APPROX_SIMPLE)\n",
    "for cnt in contours2:\n",
    "    # Fill the original image for all the contours\n",
    "    cv2.drawContours(filled_pre, [cnt], 0, 255, -1)\n",
    "\n",
    "filled2 = cv2.bitwise_or(filled_pre2, image2)"
   ]
  },
  {
   "cell_type": "code",
   "execution_count": 47,
   "metadata": {
    "collapsed": false
   },
   "outputs": [
    {
     "name": "stdout",
     "output_type": "stream",
     "text": [
      "[(5, 1, 2), (8, 1, 2), (1, 1, 2)]\n",
      "[(4, 1, 2), (8, 1, 2), (1, 1, 2)]\n"
     ]
    }
   ],
   "source": [
    "print([cnt.shape for cnt in contours])\n",
    "print([cnt.shape for cnt in contours2])"
   ]
  },
  {
   "cell_type": "code",
   "execution_count": 51,
   "metadata": {
    "collapsed": false
   },
   "outputs": [
    {
     "name": "stdout",
     "output_type": "stream",
     "text": [
      "[[[ 2 -1  1 -1]\n",
      "  [-1 -1 -1  0]\n",
      "  [-1  0 -1 -1]]]\n",
      "[[[ 2 -1  1 -1]\n",
      "  [-1 -1 -1  0]\n",
      "  [-1  0 -1 -1]]]\n"
     ]
    }
   ],
   "source": [
    "print(hierarchy)\n",
    "print(hierarchy2)\n",
    "#next prev child parent"
   ]
  },
  {
   "cell_type": "code",
   "execution_count": 43,
   "metadata": {
    "collapsed": false
   },
   "outputs": [
    {
     "data": {
      "text/plain": [
       "array([[255, 255, 255, 255, 255, 255, 255, 255, 255, 255],\n",
       "       [255, 255, 255, 255, 255, 255, 255, 255, 255, 255],\n",
       "       [255, 255, 255, 255, 255, 255, 255, 255, 255, 255],\n",
       "       [255, 255, 255, 255, 255, 255, 255, 255, 255, 255],\n",
       "       [255, 255, 255, 255, 255, 255, 255, 255, 255, 255],\n",
       "       [255, 255, 255, 255, 255, 255, 255, 255, 255, 255],\n",
       "       [255, 255, 255, 255, 255, 255, 255, 255, 255, 255],\n",
       "       [255, 255, 255, 255, 255, 255, 255, 255, 255, 255],\n",
       "       [255, 255, 255, 255, 255, 255, 255, 255, 255, 255],\n",
       "       [255, 255, 255, 255, 255, 255, 255, 255, 255, 255]], dtype=uint8)"
      ]
     },
     "execution_count": 43,
     "metadata": {},
     "output_type": "execute_result"
    }
   ],
   "source": [
    "im_floodfill = image.copy()\n",
    "h, w = image.shape[:2]\n",
    "mask = np.zeros((h+2, w+2), np.uint8)\n",
    "cv2.floodFill(im_floodfill, mask, (0,0), 255, flags=8);\n",
    "im_floodfill"
   ]
  },
  {
   "cell_type": "code",
   "execution_count": 44,
   "metadata": {
    "collapsed": false
   },
   "outputs": [
    {
     "data": {
      "text/plain": [
       "array([[  0,   0,   0,   0,   0,   0,   0,   0,   0,   0],\n",
       "       [  0, 255,   0,   0,   0,   0,   0,   0,   0,   0],\n",
       "       [  0,   0,   0,   0,   0,   0,   0,   0,   0,   0],\n",
       "       [  0,   0,   0,   0, 255, 255, 255, 255,   0,   0],\n",
       "       [  0,   0,   0, 255,   0,   0, 255, 255,   0,   0],\n",
       "       [  0,   0,   0, 255,   0,   0, 255, 255,   0,   0],\n",
       "       [  0,   0,   0, 255, 255, 255, 255, 255,   0,   0],\n",
       "       [  0,   0,   0, 255, 255, 255, 255, 255,   0,   0],\n",
       "       [  0,   0,   0,   0,   0,   0,   0,   0,   0,   0],\n",
       "       [  0,   0,   0,   0,   0,   0,   0,   0,   0,   0]], dtype=uint8)"
      ]
     },
     "execution_count": 44,
     "metadata": {},
     "output_type": "execute_result"
    }
   ],
   "source": [
    "im_floodfill_inv = cv2.bitwise_not(im_floodfill)\n",
    "im_out = image | im_floodfill_inv\n",
    "im_out"
   ]
  },
  {
   "cell_type": "code",
   "execution_count": null,
   "metadata": {
    "collapsed": true
   },
   "outputs": [],
   "source": []
  }
 ],
 "metadata": {
  "kernelspec": {
   "display_name": "Python 3",
   "language": "python",
   "name": "python3"
  },
  "language_info": {
   "codemirror_mode": {
    "name": "ipython",
    "version": 3
   },
   "file_extension": ".py",
   "mimetype": "text/x-python",
   "name": "python",
   "nbconvert_exporter": "python",
   "pygments_lexer": "ipython3",
   "version": "3.5.1"
  }
 },
 "nbformat": 4,
 "nbformat_minor": 0
}
